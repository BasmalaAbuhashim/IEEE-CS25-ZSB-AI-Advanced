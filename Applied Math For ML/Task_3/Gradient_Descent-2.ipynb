{
  "cells": [
    {
      "cell_type": "markdown",
      "metadata": {
        "id": "RyCQ9gjloSJq"
      },
      "source": [
        "# Linear Regression Using Gradient Descent\n",
        "\n",
        "## Problem Statement\n",
        "\n",
        "We need to implement a Python function that performs linear regression using gradient descent. The function should take the following inputs:\n",
        "\n",
        "- `X`: A NumPy array representing the feature matrix with a column of ones for the intercept.\n",
        "- `y`: A NumPy array representing the target values.\n",
        "- `alpha`: The learning rate for gradient descent.\n",
        "- `iterations`: The number of iterations to perform gradient descent.\n",
        "\n",
        "The function should return the coefficients of the linear regression model as a NumPy array, rounded to four decimal places.\n",
        "\n",
        "## Example\n",
        "\n",
        "**Input:**\n",
        "```python\n",
        "import numpy as np\n",
        "\n",
        "X = np.array([[1, 1], [1, 2], [1, 3]])\n",
        "y = np.array([1, 2, 3])\n",
        "alpha = 0.01\n",
        "iterations = 1000\n",
        "```\n",
        "\n",
        "**Output:**\n",
        "```python\n",
        "np.array([0.1107, 0.9513])"
      ]
    },
    {
      "cell_type": "code",
      "execution_count": 7,
      "metadata": {
        "id": "t0IXLQxJoSJv"
      },
      "outputs": [],
      "source": [
        "import numpy as np\n",
        "def linear_regression_gradient_descent(X: np.ndarray, y: np.ndarray, alpha: float, iterations: int) -> np.ndarray:\n",
        "    m, n = X.shape\n",
        "    theta = np.zeros((n, 1))\n",
        "    for _ in range(iterations):\n",
        "        y = y.reshape(-1,1)\n",
        "        pred = np.dot(X,theta)\n",
        "        error = pred - y\n",
        "        grad = (1 / m) * (np.dot(X.T,error))\n",
        "        theta -= alpha * grad\n",
        "    return np.round(theta.flatten(), 4)\n",
        ""
      ]
    },
    {
      "cell_type": "code",
      "source": [],
      "metadata": {
        "id": "pxagQC3EWFQJ"
      },
      "execution_count": null,
      "outputs": []
    }
  ],
  "metadata": {
    "language_info": {
      "name": "python"
    },
    "colab": {
      "provenance": []
    },
    "kernelspec": {
      "name": "python3",
      "display_name": "Python 3"
    }
  },
  "nbformat": 4,
  "nbformat_minor": 0
}